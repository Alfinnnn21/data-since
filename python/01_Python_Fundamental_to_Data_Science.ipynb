{
  "cells": [
    {
      "cell_type": "markdown",
      "metadata": {
        "id": "view-in-github",
        "colab_type": "text"
      },
      "source": [
        "<a href=\"https://colab.research.google.com/github/Alfinnnn21/data-since/blob/main/python/01_Python_Fundamental_to_Data_Science.ipynb\" target=\"_parent\"><img src=\"https://colab.research.google.com/assets/colab-badge.svg\" alt=\"Open In Colab\"/></a>"
      ]
    },
    {
      "cell_type": "markdown",
      "id": "f84a8349",
      "metadata": {
        "id": "f84a8349"
      },
      "source": [
        "# 1. Fungsi print\n"
      ]
    },
    {
      "cell_type": "code",
      "execution_count": 6,
      "id": "f0ea8565",
      "metadata": {
        "id": "f0ea8565",
        "colab": {
          "base_uri": "https://localhost:8080/"
        },
        "outputId": "cf6312d8-5f4c-41ad-eb47-66d9a1e394f2"
      },
      "outputs": [
        {
          "output_type": "stream",
          "name": "stdout",
          "text": [
            "Hello World\n"
          ]
        }
      ],
      "source": [
        "print(\"Hello World\")"
      ]
    },
    {
      "cell_type": "markdown",
      "id": "f89a03a9",
      "metadata": {
        "id": "f89a03a9"
      },
      "source": [
        "# 2. Variable\n",
        "variable adalah huruf/kata yang dipakai untuk menyimpan suatu nilai (karakter/continu)"
      ]
    },
    {
      "cell_type": "code",
      "execution_count": 23,
      "id": "fec8e64d",
      "metadata": {
        "id": "fec8e64d",
        "colab": {
          "base_uri": "https://localhost:8080/"
        },
        "outputId": "1531c2ad-33e5-4123-f974-197610c3be8e"
      },
      "outputs": [
        {
          "output_type": "stream",
          "name": "stdout",
          "text": [
            "alfin 24\n"
          ]
        }
      ],
      "source": [
        "usia = 23\n",
        "nama = \"alfin\"\n",
        "print (nama, usia + 1)\n"
      ]
    },
    {
      "source": [
        "biodata = {\n",
        "    \"nama\": \"Alfin\",\n",
        "    \"usia\": 23,\n",
        "    \"pekerjaan\": \"Mahasiswa\",\n",
        "    \"kota\": \"Jakarta\",\n",
        "    \"hobi\": [\"Membaca\", \"Coding\", \"Bermain musik\"],\n",
        "}\n",
        "\n",
        "print(\"Biodata:\")\n",
        "print(\"-\" * 10)\n",
        "for key, value in biodata.items():\n",
        "    print(f\"{key.capitalize()}: {value}\")"
      ],
      "cell_type": "code",
      "metadata": {
        "colab": {
          "base_uri": "https://localhost:8080/"
        },
        "id": "Wz7Cm5fO5pkL",
        "outputId": "0cb39bd6-c523-450b-ef27-c114825259f1"
      },
      "id": "Wz7Cm5fO5pkL",
      "execution_count": 24,
      "outputs": [
        {
          "output_type": "stream",
          "name": "stdout",
          "text": [
            "Biodata:\n",
            "----------\n",
            "Nama: Alfin\n",
            "Usia: 23\n",
            "Pekerjaan: Mahasiswa\n",
            "Kota: Jakarta\n",
            "Hobi: ['Membaca', 'Coding', 'Bermain musik']\n"
          ]
        }
      ]
    },
    {
      "cell_type": "markdown",
      "id": "65b1f85e",
      "metadata": {
        "id": "65b1f85e"
      },
      "source": [
        "# 3. List dan Set\n",
        "tempat untuk mengumpulkan beberapa nilai"
      ]
    },
    {
      "cell_type": "code",
      "execution_count": 8,
      "id": "d46e7f21",
      "metadata": {
        "id": "d46e7f21",
        "colab": {
          "base_uri": "https://localhost:8080/"
        },
        "outputId": "bd6b2998-6a45-4e55-b15d-c80f85c017c2"
      },
      "outputs": [
        {
          "output_type": "execute_result",
          "data": {
            "text/plain": [
              "[29, 30, 27, 25]"
            ]
          },
          "metadata": {},
          "execution_count": 8
        }
      ],
      "source": [
        "list_usia = [29,30,27,25]\n",
        "list_usia"
      ]
    },
    {
      "cell_type": "code",
      "execution_count": 9,
      "id": "7ba56e73",
      "metadata": {
        "id": "7ba56e73",
        "colab": {
          "base_uri": "https://localhost:8080/"
        },
        "outputId": "dd3366cb-851d-4073-d0d0-01c31637f472"
      },
      "outputs": [
        {
          "output_type": "execute_result",
          "data": {
            "text/plain": [
              "(29, 30, 27, 25)"
            ]
          },
          "metadata": {},
          "execution_count": 9
        }
      ],
      "source": [
        "set_usia = (29,30,27,25)\n",
        "set_usia"
      ]
    },
    {
      "cell_type": "markdown",
      "id": "f6eeb8c2",
      "metadata": {
        "id": "f6eeb8c2"
      },
      "source": [
        "## 3.1. Append\n",
        "method untuk menambahkan item ke dalam list"
      ]
    },
    {
      "cell_type": "code",
      "execution_count": 10,
      "id": "2a8e0247",
      "metadata": {
        "colab": {
          "base_uri": "https://localhost:8080/"
        },
        "id": "2a8e0247",
        "outputId": "fd6a5630-d67a-4e2f-f656-36d471a7a366"
      },
      "outputs": [
        {
          "output_type": "execute_result",
          "data": {
            "text/plain": [
              "[29, 30, 27, 25, 50]"
            ]
          },
          "metadata": {},
          "execution_count": 10
        }
      ],
      "source": [
        "list_usia.append(50)\n",
        "list_usia"
      ]
    },
    {
      "cell_type": "markdown",
      "id": "c5718e44",
      "metadata": {
        "id": "c5718e44"
      },
      "source": [
        "## 3.2. Slicing"
      ]
    },
    {
      "cell_type": "code",
      "execution_count": 11,
      "id": "617b26ad",
      "metadata": {
        "colab": {
          "base_uri": "https://localhost:8080/"
        },
        "id": "617b26ad",
        "outputId": "8b9dd66f-19a6-488a-ded8-383078e8e55e"
      },
      "outputs": [
        {
          "output_type": "execute_result",
          "data": {
            "text/plain": [
              "27"
            ]
          },
          "metadata": {},
          "execution_count": 11
        }
      ],
      "source": [
        "list_usia[2]"
      ]
    },
    {
      "cell_type": "markdown",
      "id": "792b5b38",
      "metadata": {
        "id": "792b5b38"
      },
      "source": [
        "# 4. Looping/Iterasi"
      ]
    },
    {
      "cell_type": "code",
      "execution_count": 12,
      "id": "6bb03f49",
      "metadata": {
        "colab": {
          "base_uri": "https://localhost:8080/"
        },
        "id": "6bb03f49",
        "outputId": "333682fb-63dd-4685-e1b9-b5db08b4bc4e"
      },
      "outputs": [
        {
          "output_type": "execute_result",
          "data": {
            "text/plain": [
              "[0, 1, 2, 3, 4]"
            ]
          },
          "metadata": {},
          "execution_count": 12
        }
      ],
      "source": [
        "list_number = [i for i in range(5)]\n",
        "list_number"
      ]
    },
    {
      "cell_type": "code",
      "execution_count": 13,
      "id": "664c4fd9",
      "metadata": {
        "colab": {
          "base_uri": "https://localhost:8080/"
        },
        "id": "664c4fd9",
        "outputId": "40492ef4-b0da-462a-c0da-da4a36b27b88"
      },
      "outputs": [
        {
          "output_type": "stream",
          "name": "stdout",
          "text": [
            "0\n",
            "1\n",
            "2\n",
            "3\n",
            "4\n"
          ]
        }
      ],
      "source": [
        "# semua item di list/set akan diproses\n",
        "for item in list_number:\n",
        "    print(item)"
      ]
    },
    {
      "cell_type": "code",
      "execution_count": 14,
      "id": "3c9e44ae",
      "metadata": {
        "colab": {
          "base_uri": "https://localhost:8080/"
        },
        "id": "3c9e44ae",
        "outputId": "c0171f16-ffb2-474f-be20-18e3351067d1"
      },
      "outputs": [
        {
          "output_type": "stream",
          "name": "stdout",
          "text": [
            "1\n",
            "2\n",
            "3\n",
            "4\n",
            "5\n",
            "6\n",
            "7\n",
            "8\n",
            "9\n"
          ]
        }
      ],
      "source": [
        "for i in range(1,10):\n",
        "    print(i)"
      ]
    },
    {
      "cell_type": "markdown",
      "id": "7e79a3ba",
      "metadata": {
        "id": "7e79a3ba"
      },
      "source": [
        "# 5. Dictionary"
      ]
    },
    {
      "cell_type": "code",
      "execution_count": 15,
      "id": "433d068d",
      "metadata": {
        "id": "433d068d"
      },
      "outputs": [],
      "source": [
        "# key : value\n",
        "contoh_dict = {\"kakek\":\"orangtua laki-laki dari ayah\",\n",
        "               \"nenek\" : \"orangtua perempuan dari ibu\"}"
      ]
    },
    {
      "cell_type": "code",
      "execution_count": 16,
      "id": "450bd34e",
      "metadata": {
        "id": "450bd34e",
        "outputId": "5d0855fd-bb27-4197-a7f5-46ee159d4089",
        "colab": {
          "base_uri": "https://localhost:8080/",
          "height": 35
        }
      },
      "outputs": [
        {
          "output_type": "execute_result",
          "data": {
            "text/plain": [
              "'orangtua laki-laki dari ayah'"
            ],
            "application/vnd.google.colaboratory.intrinsic+json": {
              "type": "string"
            }
          },
          "metadata": {},
          "execution_count": 16
        }
      ],
      "source": [
        "contoh_dict[\"kakek\"]"
      ]
    },
    {
      "cell_type": "markdown",
      "id": "e6de4403",
      "metadata": {
        "id": "e6de4403"
      },
      "source": [
        "# 6. Conditional"
      ]
    },
    {
      "cell_type": "code",
      "execution_count": 54,
      "id": "3c482dc4",
      "metadata": {
        "colab": {
          "base_uri": "https://localhost:8080/"
        },
        "id": "3c482dc4",
        "outputId": "772be879-9913-4cac-fd41-1a1920bed26e"
      },
      "outputs": [
        {
          "output_type": "stream",
          "name": "stdout",
          "text": [
            "AB\n"
          ]
        }
      ],
      "source": [
        "# klasifikasi nilai\n",
        "# nilai>=81 : \"A\"\n",
        "# 76<=nilai<81 : \"AB\"\n",
        "# nilai <76 : 'C'\n",
        "nilai = 80\n",
        "\n",
        "if nilai>=81:\n",
        "   print('A')\n",
        "elif nilai>=76 and nilai<81:\n",
        "    print('AB')\n",
        "else :\n",
        "    print('C')\n",
        "\n"
      ]
    },
    {
      "cell_type": "markdown",
      "id": "00703e69",
      "metadata": {
        "id": "00703e69"
      },
      "source": [
        "# 7. Fungsi\n",
        "membuat suatu formula/rumus yang dapat dipakai berulang-ulang"
      ]
    },
    {
      "cell_type": "code",
      "execution_count": 18,
      "id": "f9ed24f4",
      "metadata": {
        "id": "f9ed24f4"
      },
      "outputs": [],
      "source": [
        "def luaspp(p,l):\n",
        "    L= p*l\n",
        "    return L"
      ]
    },
    {
      "source": [
        "\n",
        "luaspp(4,5)"
      ],
      "cell_type": "code",
      "metadata": {
        "colab": {
          "base_uri": "https://localhost:8080/"
        },
        "id": "FS_wNpXR7I7h",
        "outputId": "0ac915ee-4e58-456d-9103-886f496884b0"
      },
      "id": "FS_wNpXR7I7h",
      "execution_count": 26,
      "outputs": [
        {
          "output_type": "execute_result",
          "data": {
            "text/plain": [
              "20"
            ]
          },
          "metadata": {},
          "execution_count": 26
        }
      ]
    },
    {
      "cell_type": "markdown",
      "id": "88f36fe3",
      "metadata": {
        "id": "88f36fe3"
      },
      "source": [
        "Buat kode untuk mencari luas lingkaran\n",
        "$L=\\frac{22}{7} \\times r^2$"
      ]
    },
    {
      "cell_type": "code",
      "source": [
        "\n",
        "def luas_lingkaran(r):\n",
        "       luas = 22/7 * (r**2)\n",
        "       return luas\n",
        "luas = luas_lingkaran(r)\n",
        "print(\"luas lingkaran adalah\", luas)\n"
      ],
      "metadata": {
        "colab": {
          "base_uri": "https://localhost:8080/"
        },
        "id": "5lytp4MM9iWZ",
        "outputId": "7d4e1477-3e5d-4555-ae2c-decafb929782"
      },
      "id": "5lytp4MM9iWZ",
      "execution_count": 58,
      "outputs": [
        {
          "output_type": "stream",
          "name": "stdout",
          "text": [
            "luas lingkaran adalah 154.0\n"
          ]
        }
      ]
    }
  ],
  "metadata": {
    "kernelspec": {
      "display_name": "Python 3 (ipykernel)",
      "language": "python",
      "name": "python3"
    },
    "language_info": {
      "codemirror_mode": {
        "name": "ipython",
        "version": 3
      },
      "file_extension": ".py",
      "mimetype": "text/x-python",
      "name": "python",
      "nbconvert_exporter": "python",
      "pygments_lexer": "ipython3",
      "version": "3.8.18"
    },
    "colab": {
      "provenance": [],
      "include_colab_link": true
    }
  },
  "nbformat": 4,
  "nbformat_minor": 5
}